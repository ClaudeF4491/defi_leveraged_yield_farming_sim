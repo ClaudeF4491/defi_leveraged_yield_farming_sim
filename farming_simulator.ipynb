{
 "cells": [
  {
   "cell_type": "markdown",
   "id": "6ed1a346-5120-4e31-a0d1-eebce3a6af85",
   "metadata": {
    "jp-MarkdownHeadingCollapsed": true,
    "tags": []
   },
   "source": [
    "# Delta-Neutral Simulation \n",
    "\n",
    "**TODO: Lots of documentation around what this does, all the parameters, etc.**\n",
    "\n",
    "**Setup**\n",
    "1. Navigate to the [Configuration & Scenario Setup](#configuration_setup) section.\n",
    "1. Update base parameters.\n",
    "1. Define reward strategy as one of the functions in the [Reward Strategy Definition](#reward_strategy_definition) section.\n",
    "1. Initialize a trade strategy definition in the [Trade Strategy Definition](#trade_strategy_definition) section.\n",
    "1. Define a Price Movement Scenario using a function in the [Price Movement Scenario](#price_movement_scenario) section, or create your own.\n",
    "1. Run\n",
    "1. View table, text, and plot outputs at the bottom.\n",
    "\n",
    "**References**: \n",
    "* The Best Resource. Used for Benchmarking, Unit Testing, and Key formulas:\n",
    "[Alpaca Finance Yield Farming Calculator](https://docs.google.com/spreadsheets/d/15pHFfo_Pe66VD59bTP2wsSAgK-DNE_Xic8HEIUY32uQ/edit#gid=650365.25877)\n",
    "  * 1.1) Pseudo delta-neutral LP farming\n",
    "  * 3.2) Double-sided Farming\n",
    "* Impermanent loss equations: [Uniswap Understanding Returns](https://docs.uniswap.org/protocol/V2/concepts/advanced-topics/understanding-returns)\n",
    "* Details on LPs/DeFi: [DeFi Guide for Newbie (and how to manage risk)](https://www.reddit.com/r/defi/comments/rxj072/defi_guide_for_newbie_and_how_to_manage_risk/)\n",
    "* [Do fees earned from liquidity pools behave like compound interest?](https://www.reddit.com/r/UniSwap/comments/ldmq18/do_fees_earned_from_liquidity_pools_behave_like/)\n",
    "  * tl;dr: Every transaction effectively acts as a compounding event. So low-activity pools have lower compounding than high-activity pools. But can be generally treated as compounding. \n",
    "* Debt Ratio: [Francium Liquidation Docs](https://docs.francium.io/product/liquidation)\n",
    "* Overview of different ways to open a Pseudo Delta Neutral position [Revisiting the Fundamentals of Pseudo-Delta Neutral Hedging - DarkRay](https://darkray.medium.com/revisiting-the-fundamentals-of-pseudo-delta-neutral-hedging-4da279caabfa)\n",
    "\n",
    "**Notes**:\n",
    "* `token0` always assumed to be the stable, and `token1` is the (risky) asset that is borrowed at a higher rate\n",
    "\n",
    "**Equations**:\n",
    "\n",
    "Rough equation to calculate leveraged Yield Farming returns without factoring in compounding, rewards, fees, etc:\n",
    "```\n",
    "E = L*P*(1 + r_e/n)^(n*t) - (L-1)*P*(1 + r_b/n)^(n*t)\n",
    "```\n",
    "where:\n",
    "```\n",
    "E: final equity\n",
    "L: Leverage amount (1, or >2)\n",
    "P: Initial principal\n",
    "r_e: earning interest rate (such that 0.5=50%)\n",
    "r_b: borrow interest rate (such that 0.5=50%)\n",
    "n: number of times compounded a year, can assume daily (365.25).\n",
    "t: number of years\n",
    "```\n",
    "This can be used as a comparison to this sim if you set all rates/fees to zero except trading fees, and no variation."
   ]
  },
  {
   "cell_type": "markdown",
   "id": "221ad05a-c81d-4223-a909-742450185c32",
   "metadata": {},
   "source": [
    "# TODOs\n",
    "---\n",
    "- [ ] Spot check rebalance -- check the IL losses. Should have some -- Compare to no-op. Compare to a no-price-change scenario. i.e. is it doing better than if there's no price change at same APRs? If so, can't be possible I think -- See notes in evernote. Something fishy?\n",
    "- [ ] Fix impermanent loss calculations. Should reset on every rebalance\n",
    "- [ ] Commit clean\n",
    "- [ ] Add colab button\n",
    "- [ ] Set up a downloader on the file (github)\n",
    "- [ ] Document description"
   ]
  },
  {
   "cell_type": "markdown",
   "id": "6f97ef07-41cd-4232-a7b3-3b58b3f3b00c",
   "metadata": {},
   "source": [
    "# Install Packages\n",
    "---"
   ]
  },
  {
   "cell_type": "code",
   "execution_count": null,
   "id": "24209b53-4538-40e2-b45e-0d3f48cf0515",
   "metadata": {},
   "outputs": [],
   "source": [
    "# !pip install -r requirements.txt"
   ]
  },
  {
   "cell_type": "markdown",
   "id": "cc24316a-cbd1-486a-8139-d377eaeb4826",
   "metadata": {},
   "source": [
    "# Imports\n",
    "---"
   ]
  },
  {
   "cell_type": "code",
   "execution_count": null,
   "id": "618173f8-642b-4d35-9942-d5a5007b2dab",
   "metadata": {},
   "outputs": [],
   "source": [
    "%load_ext autoreload\n",
    "%autoreload 2"
   ]
  },
  {
   "cell_type": "code",
   "execution_count": null,
   "id": "6a67d502-ef2f-4924-a128-cea58d1912b6",
   "metadata": {},
   "outputs": [],
   "source": [
    "import matplotlib.pyplot as plt\n",
    "import numpy as np\n",
    "import pandas as pd\n",
    "import plotly.express as px\n",
    "import plotly.graph_objects as go\n",
    "\n",
    "# Import all the support strategies & scenarios so a user of this notebook can select any of them.\n",
    "import scenarios\n",
    "import simulation\n",
    "import strategies.rewards as reward_strategies\n",
    "import strategies.trading as trading_strategies"
   ]
  },
  {
   "cell_type": "code",
   "execution_count": null,
   "id": "3186bee9-955e-4061-9ecd-54103c2537f1",
   "metadata": {},
   "outputs": [],
   "source": [
    "pd.set_option('display.float_format', lambda x: '%.3f' % x)"
   ]
  },
  {
   "cell_type": "markdown",
   "id": "dac497c9-ff3e-4c12-9676-1b98f37bf7b8",
   "metadata": {},
   "source": [
    "<a id='configuration_setup'></a>\n",
    "# Configuration & Scenario Setup\n",
    "---"
   ]
  },
  {
   "cell_type": "markdown",
   "id": "2781b453-f2e2-471a-b7c7-863a346ea56a",
   "metadata": {},
   "source": [
    "## Parameters"
   ]
  },
  {
   "cell_type": "code",
   "execution_count": null,
   "id": "8f8c55dd-5ad7-4bae-8ff1-ec7454079bae",
   "metadata": {},
   "outputs": [],
   "source": [
    "\"\"\"\n",
    "Configuration that is always used, regardless of scenario\n",
    "\"\"\"\n",
    "# Initial amount invested\n",
    "initial_cap = 10000\n",
    "\n",
    "# Swap fee, note: 0.01 = 1%\n",
    "fee_swap = 0.00\n",
    "\n",
    "# Cost of gas for each transaction, in dollars\n",
    "fee_gas = 0\n",
    "\n",
    "# Open a leveraged position\n",
    "# Options: [1.0, 2.0, >2.0]\n",
    "leverage = 3\n",
    "\n",
    "# Price of reward token\n",
    "reward_token_price = 1.0\n",
    "\n",
    "# Liquidation threshold\n",
    "# Note: Francium threshold is 83.3%. See Francium reference at top.\n",
    "# Currently unused. For plotting purposes only.\n",
    "liquidation_threshold = 0.833\n",
    "\n",
    "\"\"\"\n",
    "Configuration that is used if the scenario does not internally generate the data itself\n",
    "\"\"\"\n",
    "# Earnings APYs, note: 1.0 = 100%\n",
    "apy_trading_fee = 0.3\n",
    "apy_reward = 0.0\n",
    "\n",
    "# Borrow / Lending APYs\n",
    "apy_borrow_token0 = 0.1\n",
    "apy_borrow_token1 = 0.1\n"
   ]
  },
  {
   "cell_type": "code",
   "execution_count": null,
   "id": "472c72ab-d792-4d28-8d3d-6de424a1728a",
   "metadata": {},
   "outputs": [],
   "source": [
    "\"\"\"\n",
    "Configuration that is used if `create_history_from_files()` is selected as the scenario. \n",
    "That generator derives all pool APYs, borrow APYs, and prices\n",
    "\"\"\"\n",
    "# Token names, according to CREAM, to lookup borrow rates. \n",
    "# May differ from CoinDix pool symbol name\n",
    "cream_token0_name = \"USDC.e\" \n",
    "cream_token1_name = \"WAVAX\"\n",
    "\n",
    "# CoinGecko config\n",
    "token1_coingecko_id = \"avalanche-2\"\n",
    "reward_token_coingecko_id= \"joe\"\n",
    "\n",
    "# CoinDix parameters\n",
    "coindix_pair = \"USDC.e-AVAX\"\n",
    "protocol = \"trader joe\"\n",
    "chain = \"avalanche\""
   ]
  },
  {
   "cell_type": "markdown",
   "id": "354b8553-8390-4dc9-8d0f-5608e0464ca1",
   "metadata": {},
   "source": [
    "<a id='reward_strategy_definition'></a>\n",
    "## Reward Strategy Definition\n",
    "Define a reward function using one found in [Reward Token Strategies](#reward_token_strategies) section. Or create your own and reference it here."
   ]
  },
  {
   "cell_type": "code",
   "execution_count": null,
   "id": "fddc0f74-5aff-4ccc-8bce-850b7fba6c17",
   "metadata": {},
   "outputs": [],
   "source": [
    "# Define parameters for what to do with rewards\n",
    "# To HODL, use any SellRewardsStrategy(sell_amount=0)\n",
    "rewards_sell_amount = 1.0\n",
    "\n",
    "# Options: SellRewardsStrategy, CompoundRewardsStrategy\n",
    "rewards_cls = reward_strategies.SellRewardsStrategy(sell_amount=rewards_sell_amount)\n",
    "# rewards_cls = reward_strategies.CompoundRewardsStrategy(sell_amount=rewards_sell_amount)"
   ]
  },
  {
   "cell_type": "markdown",
   "id": "1a7cd313-1ade-47bb-81da-5498f6d0fa9c",
   "metadata": {},
   "source": [
    "<a id='price_movement_scenario'></a>\n",
    "## Price Movement Scenario\n",
    "\n",
    "Uncomment the scenario to try it. Or create your own from a function in the [Scenario Generators](#scenario_generators) section."
   ]
  },
  {
   "cell_type": "code",
   "execution_count": null,
   "id": "c5228420-90f6-40aa-98d4-cca6ff974396",
   "metadata": {},
   "outputs": [],
   "source": [
    "\"\"\"\n",
    "Uncomment to create a small 4-day example that unit-tests: no change, very negative price change, very positive price change\n",
    "\"\"\"\n",
    "# pp = scenarios.create_small_example()\n",
    "\n",
    "\n",
    "\"\"\"\n",
    "Uncomment this to run for one year without any price change -- useful to test APY growths and fees without price impact\n",
    "\"\"\"\n",
    "# pp = scenarios.create_no_price_change_example(365)\n",
    "\n",
    "\n",
    "\"\"\"\n",
    "Uncomment this to run for one year, decaying price change to 80% losses -- useful to see dramatic effects on investment\n",
    "\"\"\"\n",
    "# pp = scenarios.create_linear_price_change_example(365, token0_price=1.0, token1_price_initial=0.1, token1_price_final=0.02)\n",
    "\n",
    "\n",
    "\"\"\"\n",
    "Uncomment this to run for one year, increasing price 5X -- useful to see dramatic effects on investment\n",
    "\"\"\"\n",
    "# pp = scenarios.create_linear_price_change_example(365, token0_price=1.0, token1_price_initial=0.1, token1_price_final=0.5)\n",
    "\n",
    "\n",
    "\"\"\"\n",
    "Uncomment this to run for one year, without any non-safe-asset (NSA) price change, but the reward token drains to near zero.\n",
    "This is an example of typical farming token where it may be better to sell every day instead of compound or hold, \n",
    "depending on initial capital and gas fees.\n",
    "\"\"\"\n",
    "# pp = scenarios.create_linear_price_change_example(\n",
    "#     365, token0_price=1.0, token1_price_initial=0.1, token1_price_final=0.1, reward_token_price_initial=1.0, reward_token_price_final=0.01\n",
    "# )\n",
    "\n",
    "\"\"\"\n",
    "Uncomment this to go from price of 1.0 down to 0.2 and back to 0.1 within a year. Tests to see the effect of returning to no IL \n",
    "when price dumps and comes back\n",
    "\"\"\"\n",
    "# pp = scenarios.create_linear_and_back_example(365, token0_price=1.0, token1_price_base=0.1, token1_price_peak=0.01)\n",
    "\n",
    "\"\"\"\n",
    "Uncomment this to go from price of 1.0 down to 5.0 (5X) and back to 0.1 within a year. Tests to see the effect of returning to \n",
    "no IL when price pumps and comes back\n",
    "\"\"\"\n",
    "# pp = scenarios.create_linear_and_back_example(365, token0_price=1.0, token1_price_base=0.1, token1_price_peak=0.3)\n",
    "\n",
    "\"\"\"\n",
    "Uncomment this to take a random walk. \n",
    "Tips: \n",
    "- Set seed to None for random every time, or integer to be deterministic\n",
    "- Set bias and variance based in terms of daily-percent movement. \n",
    "- See defaults for reasonable starts. Try plotting first as well.\n",
    "- Set bias to positive to walk upward, negative to walk downward, or 0 to randomly move stationary. \n",
    "- Set variance to define how much the walk should move each step.\n",
    "\"\"\"\n",
    "pp = scenarios.create_random_walk_example(365, token1_price_initial=10, bias=-0.002, variance=0.005, seed=1234)\n",
    "\n",
    "\"\"\"\n",
    "Uncomment this to run a real-world example using actual historical data.\n",
    "Reads in AVAX-USDC.e pool example from CoinDix/CREAM and prices from coingecko\n",
    "Assumes 10% of total APY is rewards (coindix doesn't report reward APY for this pool, so just an assumption)\n",
    "\"\"\"\n",
    "# pp = scenarios.create_history_from_files(\n",
    "#     coindix_pair,\n",
    "#     protocol,\n",
    "#     chain,\n",
    "#     cream_token0_name, \n",
    "#     cream_token1_name,\n",
    "#     token1_coingecko_id,\n",
    "#     reward_token_coingecko_id,\n",
    "#     reward_apy_ratio=0.10\n",
    "# )\n",
    "\n",
    "# Suppress auto-comment print above\n",
    "print(\"\")"
   ]
  },
  {
   "cell_type": "markdown",
   "id": "c335d023-b7ae-458d-84bf-f66b5bc38bf4",
   "metadata": {},
   "source": [
    "<a id='trade_strategy_definition'></a>\n",
    "## Trade Strategy Definition\n",
    "Initialize a trade strategy object found in [Trade Strategies](#trade_strategies)"
   ]
  },
  {
   "cell_type": "code",
   "execution_count": null,
   "id": "0c66ec88-7ed8-4d1f-9b74-077d42432f9e",
   "metadata": {},
   "outputs": [],
   "source": [
    "# Flag to open-position on init. Should be set to False for strategies that decide when to open themselves\n",
    "open_on_start = True\n",
    "\n",
    "\"\"\"\n",
    "This strategy is a no-op. It takes no action and is just a HODL.\n",
    "\"\"\"\n",
    "# strategy_cls = trading_strategies.HODLStrategy()\n",
    "\n",
    "\"\"\"\n",
    "This strategy rebalances whenever the price moves 5% from the last rebalance price. It does this by just closing and re-opening\n",
    "the position. In reality, this would be done through collateral rebalancing but the net effect is the same. To accommodate for \n",
    "this difference, gas and swap fees are reduced here.\n",
    "\"\"\"\n",
    "strategy_cls = trading_strategies.RebalanceStrategy(\n",
    "        pp[\"token1_price\"][0], \n",
    "        0.3,\n",
    "        leverage,\n",
    "        1.0,\n",
    "        fee_swap=fee_swap/10.0,  # In real-world, the swap will be a balancing of a small percentage of the total position\n",
    "        fee_gas=fee_gas/3.0\n",
    ")\n",
    "\n",
    "# Suppress odd comment prints\n",
    "print(\"\")"
   ]
  },
  {
   "cell_type": "markdown",
   "id": "e4d9965b-5af8-41f3-83dd-dcb421a7e320",
   "metadata": {},
   "source": [
    "# Initialize\n",
    "---"
   ]
  },
  {
   "cell_type": "markdown",
   "id": "adc01375-04be-49da-8eca-a48c83141cf1",
   "metadata": {},
   "source": [
    "# Run Simulation\n",
    "---"
   ]
  },
  {
   "cell_type": "code",
   "execution_count": null,
   "id": "8850277b-87a8-40e4-87aa-a4bd8158139c",
   "metadata": {},
   "outputs": [],
   "source": [
    "pp = simulation.simulate(\n",
    "    pp,\n",
    "    strategy_cls,\n",
    "    rewards_cls,\n",
    "    initial_cap,\n",
    "    leverage,\n",
    "    fee_gas,\n",
    "    fee_swap,\n",
    "    reward_token_price,\n",
    "    apy_trading_fee,\n",
    "    apy_reward,\n",
    "    apy_borrow_token0,\n",
    "    apy_borrow_token1,\n",
    "    open_on_start\n",
    ")"
   ]
  },
  {
   "cell_type": "markdown",
   "id": "76bfa438-c9c6-46ee-9fa3-cf3f814a3c87",
   "metadata": {},
   "source": [
    "# Table Summary\n",
    "---"
   ]
  },
  {
   "cell_type": "code",
   "execution_count": null,
   "id": "46c8c493-d75e-4005-9c61-be6e0064cee0",
   "metadata": {},
   "outputs": [],
   "source": [
    "pp.T"
   ]
  },
  {
   "cell_type": "markdown",
   "id": "01a96401-f186-408b-8238-fd39554bcfcf",
   "metadata": {},
   "source": [
    "# Text Summary\n",
    "---"
   ]
  },
  {
   "cell_type": "code",
   "execution_count": null,
   "id": "62e2df3c-5b07-4097-b1e3-7ffa7a7fb3bf",
   "metadata": {},
   "outputs": [],
   "source": [
    "days_elapsed = (pp.index[-1] - pp.index[0]).days + 1\n",
    "final_row = pp.iloc[-1]\n",
    "print(f\"Initial Wallet Value: ${initial_cap:0.2f}\")\n",
    "print(f\"Days Elapsed: {days_elapsed}\")\n",
    "print(f\"Number of Trade Strategy Executions: {pp['trade_event'].sum()}\")\n",
    "print(f\"Final Wallet Value: ${final_row['equity_value']:0.2f}\")\n",
    "print(f\"Final Profit: ${final_row['profit_value']:0.2f}\")\n",
    "print(f\"Effective APR: {final_row['annualized_apr'] * 100:0.2f}%\")"
   ]
  },
  {
   "cell_type": "markdown",
   "id": "34371c44-6dde-4667-a03d-11fd9170f926",
   "metadata": {},
   "source": [
    "# Plot Results\n",
    "---"
   ]
  },
  {
   "cell_type": "code",
   "execution_count": null,
   "id": "f805f57f-aefc-44d2-aab9-d0e99cfc9172",
   "metadata": {},
   "outputs": [],
   "source": [
    "# Filter trade events and anchor to top of plot\n",
    "tradey = pp[\"token1_price\"].max()\n",
    "trade_points_plot = pp[\"trade_event\"] * tradey\n",
    "trade_points_plot = trade_points_plot[trade_points_plot>0]\n",
    "\n",
    "fig = go.Figure()\n",
    "fig.add_trace(go.Scatter(x=pp.index, y=pp[\"token1_price\"], mode='lines', name='token1_price'))\n",
    "fig.add_trace(go.Scatter(\n",
    "    x=trade_points_plot.index, y=trade_points_plot, mode='markers', name='Trade Events', marker_line_width=2, marker_size=7\n",
    "))\n",
    "fig.update_layout(\n",
    "    title=\"Price of token1 over time, and when Trade Strategy events executed\",\n",
    "    xaxis_title=\"Price ($)\",\n",
    "    yaxis_title=\"date\"\n",
    ")\n"
   ]
  },
  {
   "cell_type": "code",
   "execution_count": null,
   "id": "81eb0c72-d1f7-4a08-aba0-5a93940a0e8e",
   "metadata": {},
   "outputs": [],
   "source": [
    "# px.line(pp, y=\"reward_token_price\", title=f\"Reward Token Price Over Time, final=${pp['reward_token_price'][-1]:.2f}\")"
   ]
  },
  {
   "cell_type": "code",
   "execution_count": null,
   "id": "eca195bc-d264-4de7-8923-229ea751a181",
   "metadata": {},
   "outputs": [],
   "source": [
    "print(\"Note: Total Equity = Pool Equity + Cash + Unrealized Rewards - Fees\")\n",
    "px.line(pp, y=[\"equity_value\"], title=f\"Total Equity Value Over Time, final=${pp['equity_value'][-1]:.2f}\")"
   ]
  },
  {
   "cell_type": "code",
   "execution_count": null,
   "id": "62c380a4-25db-4ee3-bf32-d1924d491082",
   "metadata": {},
   "outputs": [],
   "source": [
    "# px.line(pp, y=[\"token0_supply_close\", \"token1_supply_close\", \"token0_debt_close\", \"token1_debt_close\",], title=f\"Token Supply and Debt Over Time\")"
   ]
  },
  {
   "cell_type": "code",
   "execution_count": null,
   "id": "7c194849-58df-435d-9b05-22638d14eb05",
   "metadata": {},
   "outputs": [],
   "source": [
    "# px.line(pp, y=[\"debt_value\", \"position_value\"], title=\"Position and Debt Value Over Time\")"
   ]
  },
  {
   "cell_type": "code",
   "execution_count": null,
   "id": "87062c2c-fe2a-4fa9-9f36-50c0a74d1449",
   "metadata": {},
   "outputs": [],
   "source": [
    "# fig = px.line(pp, y=[\"effective_leverage\"], title=f\"Effective Leverage Over Time (Pool Position / Pool Equity), final={pp['effective_leverage'][-1]:.2f}\")\n",
    "# fig.update_yaxes(range=[0, 3.5], autorange=True)"
   ]
  },
  {
   "cell_type": "code",
   "execution_count": null,
   "id": "46a1261c-3fe4-40d4-9ffe-b706f368bbf7",
   "metadata": {},
   "outputs": [],
   "source": [
    "# px.line(pp, y=[\"profit_value\"], title=f\"Profit Over Time, final=${pp['profit_value'][-1]:.2f}\")"
   ]
  },
  {
   "cell_type": "code",
   "execution_count": null,
   "id": "3d61986c-2fd9-4be9-83c9-4852a95e4baf",
   "metadata": {},
   "outputs": [],
   "source": [
    "fig = px.line(pp, y=\"roi\", title=f\"ROI % On a Given Date, final={pp['roi'][-1]*100:.2f}%\")\n",
    "fig.layout.yaxis.tickformat = ',.0%'\n",
    "fig.show()"
   ]
  },
  {
   "cell_type": "code",
   "execution_count": null,
   "id": "32228bbb-0e20-43d4-b97d-2f19efef67a7",
   "metadata": {},
   "outputs": [],
   "source": [
    "# px.line(pp, y=pp[\"annualized_apr\"]*100, title=f\"Annualized APR At Point in Time, final={pp['annualized_apr'][-1]*100:.2f}%\")"
   ]
  },
  {
   "cell_type": "code",
   "execution_count": null,
   "id": "ce6a4dae-8a02-4305-8747-e599fedc6810",
   "metadata": {},
   "outputs": [],
   "source": [
    "# fig = px.line(pp, y=[\"apy_trading_fee\", \"apy_reward\"], title=\"Accrual APYs Over Time\")\n",
    "# fig.layout.yaxis.tickformat = ',.0%'\n",
    "# fig.show()"
   ]
  },
  {
   "cell_type": "code",
   "execution_count": null,
   "id": "39a05688-2c55-41e0-a6ff-4c2c4bb25bdc",
   "metadata": {},
   "outputs": [],
   "source": [
    "# fig = px.line(pp, y=[\"apy_borrow_token0\", \"apy_borrow_token1\"], title=f\"Borrow APYs Over Time\")\n",
    "# fig.layout.yaxis.tickformat = ',.0%'\n",
    "# fig.show()"
   ]
  },
  {
   "cell_type": "code",
   "execution_count": null,
   "id": "e1c7f828-7c14-4865-b817-6303088c7994",
   "metadata": {},
   "outputs": [],
   "source": [
    "# fig = px.line(pp, y=\"iloss\", title=f\"Impermanent Loss Over Time (price change only, unrelated to position value), final={pp['iloss'][-1]*100:.2f}%\")\n",
    "# fig.layout.yaxis.tickformat = ',.0%'\n",
    "# fig.show()"
   ]
  },
  {
   "cell_type": "code",
   "execution_count": null,
   "id": "7e49138e-9f61-40d3-a132-e5dbae9a1c13",
   "metadata": {},
   "outputs": [],
   "source": [
    "# px.line(pp, y=[\"rewards_value\", \"cash_value\"], title=f\"Rewards Value and Cash Value Accumulated, finals = [${pp['rewards_value'][-1]:.2f}, {pp['cash_value'][-1]:.2f}]\")"
   ]
  },
  {
   "cell_type": "code",
   "execution_count": null,
   "id": "9f710567-85bc-4e41-9c00-2d144e4aeed0",
   "metadata": {},
   "outputs": [],
   "source": [
    "# px.line(pp, y=[\"fees_value\"], title=f\"Gas Fees Accumulated, final = ${pp['fees_value'][-1]:.2f}\")"
   ]
  },
  {
   "cell_type": "code",
   "execution_count": null,
   "id": "53e147e8-7f63-42a8-88dd-8bf7d6eea5cb",
   "metadata": {},
   "outputs": [],
   "source": [
    "# print(\"Debt Ratio here is defined as `debt_value / (debt_value + pool_equity)`. Since it's used to consider liquidation, it is a function of the LP alone, and not fees/rewards/cash.\")\n",
    "# fig = px.line(pp, y=[\"debt_ratio\"], title=f\"Debt Ratio over Time, final = {pp['debt_ratio'][-1]:3f}\")\n",
    "# fig.add_hline(y=liquidation_threshold, line_width=3, line_dash=\"dash\", line_color=\"red\")\n",
    "# fig.update_yaxes(range=[0, 1], autorange=False)\n",
    "# fig.show()"
   ]
  },
  {
   "cell_type": "code",
   "execution_count": null,
   "id": "5b71d94e-5955-4ce5-aaab-e86017a74086",
   "metadata": {},
   "outputs": [],
   "source": [
    "px.line(pp, y=[\"position_hodl_dollars\"], title=f\"Value if HODL'd original position (50% volatile asset, 50% stable), final = ${pp['position_hodl_dollars'][-1]:.2f}\")\n"
   ]
  },
  {
   "cell_type": "code",
   "execution_count": null,
   "id": "b043f954-e1f0-4b91-9f63-12b8077a885c",
   "metadata": {},
   "outputs": [],
   "source": [
    "# Unpack metadata\n",
    "df_metadata = pd.DataFrame([zz for zz in pp[\"strategy_metadata\"]], index=pp.index)\n",
    "if df_metadata.shape[1] > 0:\n",
    "    fig = px.line(df_metadata, title=f\"Metadata Output from Strategy Over Time\")\n",
    "    fig.show()\n",
    "else:\n",
    "    print(\"No strategy metadata found. Skipping plot.\")"
   ]
  },
  {
   "cell_type": "markdown",
   "id": "30e1796d-bf12-4974-a945-c684ca1b965e",
   "metadata": {},
   "source": [
    "# End"
   ]
  },
  {
   "cell_type": "code",
   "execution_count": null,
   "id": "b50953ab-3225-47a6-9018-b28291c29e6b",
   "metadata": {},
   "outputs": [],
   "source": []
  },
  {
   "cell_type": "code",
   "execution_count": null,
   "id": "f9e5ee87-0dbf-4225-a931-de794730c520",
   "metadata": {},
   "outputs": [],
   "source": []
  },
  {
   "cell_type": "code",
   "execution_count": null,
   "id": "4a2568cb-7158-4470-ab62-be27e6436570",
   "metadata": {},
   "outputs": [],
   "source": []
  },
  {
   "cell_type": "code",
   "execution_count": null,
   "id": "62295c2a-02ee-4ce8-8521-e11b267bdfe4",
   "metadata": {},
   "outputs": [],
   "source": []
  },
  {
   "cell_type": "code",
   "execution_count": null,
   "id": "22e442bb-24de-456b-94e1-45415547a31f",
   "metadata": {},
   "outputs": [],
   "source": []
  },
  {
   "cell_type": "code",
   "execution_count": null,
   "id": "3a1b8ca9-149d-4b6e-be6a-3daa55712f59",
   "metadata": {},
   "outputs": [],
   "source": []
  },
  {
   "cell_type": "code",
   "execution_count": null,
   "id": "d4dab3c6-aa8c-4d0c-8f35-15db9777df58",
   "metadata": {},
   "outputs": [],
   "source": []
  }
 ],
 "metadata": {
  "kernelspec": {
   "display_name": "Python 3 (ipykernel)",
   "language": "python",
   "name": "python3"
  },
  "language_info": {
   "codemirror_mode": {
    "name": "ipython",
    "version": 3
   },
   "file_extension": ".py",
   "mimetype": "text/x-python",
   "name": "python",
   "nbconvert_exporter": "python",
   "pygments_lexer": "ipython3",
   "version": "3.8.6"
  }
 },
 "nbformat": 4,
 "nbformat_minor": 5
}
