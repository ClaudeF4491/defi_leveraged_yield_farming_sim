{
 "cells": [
  {
   "cell_type": "markdown",
   "id": "6ed1a346-5120-4e31-a0d1-eebce3a6af85",
   "metadata": {
    "tags": []
   },
   "source": [
    "# Optimizer: 3X LYF Delta Neutral with Rebalancing\n",
    "\n",
    "[![Open In Colab](https://colab.research.google.com/assets/colab-badge.svg)](https://colab.research.google.com/github/ClaudeF4491/defi_leveraged_yield_farming_sim/blob/main/optimize_rebalance_threshold.ipynb)\n",
    "\n",
    "**Overview**\n",
    "\n",
    "This is very similar to `farming_simulator.ipynb`, but rather than plotting results for a single rebalancing threshold, it grid-searches several thresholds and plots the performance. That way one can assess which is the best rebalance threshold for a given scenario.\n",
    "\n",
    "**Setup**\n",
    "- See `farming_simulator.ipynb`. Same setup\n"
   ]
  },
  {
   "cell_type": "markdown",
   "id": "810c4208-1739-4387-8bef-6fc5b3570bc9",
   "metadata": {},
   "source": [
    "# Google Colab Setup\n",
    "---\n"
   ]
  },
  {
   "cell_type": "code",
   "execution_count": null,
   "id": "1a3b0e47-e4ec-41f0-9711-dbaece8e147f",
   "metadata": {},
   "outputs": [],
   "source": [
    "# Check if on Colab\n",
    "try:\n",
    "  import google.colab\n",
    "  IN_COLAB = True\n",
    "except:\n",
    "  IN_COLAB = False\n",
    "\n",
    "# Download packages if on Colab\n",
    "if IN_COLAB:\n",
    "    # Download source code and add to PYTHONPATH if doesn't exist\n",
    "    import sys\n",
    "    import os\n",
    "    project_name = \"defi-farming-sim\"\n",
    "    if not os.path.isdir(project_name):\n",
    "      # Fetch source modules\n",
    "      !git clone https://github.com/ClaudeF4491/{project_name}.git\n",
    "      !cp {project_name}/requirements.txt ./\n",
    "      sys.path.append(f\"./{project_name}\")\n",
    "\n",
    "      # Move the data to this dir\n",
    "      !mv -f ./{project_name}/data ./\n",
    "\n",
    "# Extract\n",
    "!tar xf ./data/dataset_20220624.tar.gz -C ./data/"
   ]
  },
  {
   "cell_type": "markdown",
   "id": "6f97ef07-41cd-4232-a7b3-3b58b3f3b00c",
   "metadata": {},
   "source": [
    "# Install Packages\n",
    "---"
   ]
  },
  {
   "cell_type": "code",
   "execution_count": null,
   "id": "24209b53-4538-40e2-b45e-0d3f48cf0515",
   "metadata": {},
   "outputs": [],
   "source": [
    "!pip install -r requirements.txt"
   ]
  },
  {
   "cell_type": "markdown",
   "id": "cc24316a-cbd1-486a-8139-d377eaeb4826",
   "metadata": {},
   "source": [
    "# Imports\n",
    "---"
   ]
  },
  {
   "cell_type": "code",
   "execution_count": null,
   "id": "618173f8-642b-4d35-9942-d5a5007b2dab",
   "metadata": {},
   "outputs": [],
   "source": [
    "%load_ext autoreload\n",
    "%autoreload 2"
   ]
  },
  {
   "cell_type": "code",
   "execution_count": null,
   "id": "6a67d502-ef2f-4924-a128-cea58d1912b6",
   "metadata": {},
   "outputs": [],
   "source": [
    "import matplotlib.pyplot as plt\n",
    "import numpy as np\n",
    "import pandas as pd\n",
    "import plotly.express as px\n",
    "import plotly.graph_objects as go\n",
    "from tqdm import tqdm\n",
    "\n",
    "# Import all the support strategies & scenarios so a user of this notebook can select any of them.\n",
    "import scenarios\n",
    "import simulation\n",
    "import strategies.rewards as reward_strategies\n",
    "import strategies.trading as trading_strategies"
   ]
  },
  {
   "cell_type": "code",
   "execution_count": null,
   "id": "3186bee9-955e-4061-9ecd-54103c2537f1",
   "metadata": {},
   "outputs": [],
   "source": [
    "pd.set_option('display.float_format', lambda x: '%.3f' % x)"
   ]
  },
  {
   "cell_type": "markdown",
   "id": "dac497c9-ff3e-4c12-9676-1b98f37bf7b8",
   "metadata": {},
   "source": [
    "<a id='configuration_setup'></a>\n",
    "# Configuration & Scenario Setup\n",
    "---"
   ]
  },
  {
   "cell_type": "markdown",
   "id": "2781b453-f2e2-471a-b7c7-863a346ea56a",
   "metadata": {},
   "source": [
    "## Parameters"
   ]
  },
  {
   "cell_type": "code",
   "execution_count": null,
   "id": "5649a712-720c-43b0-bd18-7375f3150c54",
   "metadata": {},
   "outputs": [],
   "source": [
    "\"\"\"\n",
    "Optimizer Configuration\n",
    "\"\"\"\n",
    "search_vals = np.arange(0, 1.0, 0.01)"
   ]
  },
  {
   "cell_type": "code",
   "execution_count": null,
   "id": "8f8c55dd-5ad7-4bae-8ff1-ec7454079bae",
   "metadata": {},
   "outputs": [],
   "source": [
    "\"\"\"\n",
    "Configuration that is always used, regardless of scenario\n",
    "\"\"\"\n",
    "# Initial amount invested\n",
    "initial_cap = 10000\n",
    "\n",
    "# Swap fee, note: 0.01 = 1%\n",
    "fee_swap = 0.003\n",
    "\n",
    "# Cost of gas for each transaction, in dollars\n",
    "fee_gas = 1.0\n",
    "\n",
    "# Open a leveraged position\n",
    "# Options: [1.0, 2.0, >2.0]\n",
    "leverage = 3\n",
    "\n",
    "# Price of reward token\n",
    "reward_token_price = 1.0\n",
    "\n",
    "# Liquidation threshold\n",
    "# Note: Francium threshold is 83.3%. See Francium reference at top.\n",
    "# Currently unused. For plotting purposes only.\n",
    "liquidation_threshold = 0.833\n",
    "\n",
    "\"\"\"\n",
    "Configuration that is used if the scenario does not internally generate the data itself\n",
    "\"\"\"\n",
    "# Earnings APYs, note: 1.0 = 100%\n",
    "apy_trading_fee = 0.2\n",
    "apy_reward = 0.1\n",
    "\n",
    "# Borrow / Lending APYs\n",
    "apy_borrow_token0 = 0.12\n",
    "apy_borrow_token1 = 0.08\n",
    "\n",
    "# Start date\n",
    "# Optional start date offset that's used if not None and if not overwritten by trading strategy\n",
    "start_offset = None\n",
    "start_date = None\n"
   ]
  },
  {
   "cell_type": "code",
   "execution_count": null,
   "id": "472c72ab-d792-4d28-8d3d-6de424a1728a",
   "metadata": {},
   "outputs": [],
   "source": [
    "\"\"\"\n",
    "Configuration that is used if `create_history_from_files()` is selected as the scenario. \n",
    "That generator derives all pool APYs, borrow APYs, and prices\n",
    "\"\"\"\n",
    "# Token names, according to CREAM, to lookup borrow rates. \n",
    "# May differ from CoinDix pool symbol name\n",
    "cream_token0_name = \"USDC.e\" \n",
    "cream_token1_name = \"WAVAX\"\n",
    "\n",
    "# CoinGecko config\n",
    "token1_coingecko_id = \"avalanche-2\"\n",
    "reward_token_coingecko_id= \"joe\"\n",
    "\n",
    "# CoinDix parameters\n",
    "coindix_pair = \"USDC.e-AVAX\"\n",
    "protocol = \"trader joe\"\n",
    "chain = \"avalanche\""
   ]
  },
  {
   "cell_type": "markdown",
   "id": "354b8553-8390-4dc9-8d0f-5608e0464ca1",
   "metadata": {},
   "source": [
    "<a id='reward_strategy_definition'></a>\n",
    "## Reward Strategy Definition\n",
    "Define a reward function using one found in [Reward Token Strategies](#reward_token_strategies) section. Or create your own and reference it here."
   ]
  },
  {
   "cell_type": "code",
   "execution_count": null,
   "id": "fddc0f74-5aff-4ccc-8bce-850b7fba6c17",
   "metadata": {},
   "outputs": [],
   "source": [
    "# Define parameters for what to do with rewards\n",
    "# To HODL, use any SellRewardsStrategy(sell_amount=0)\n",
    "rewards_sell_amount = 1.0\n",
    "\n",
    "# Options: SellRewardsStrategy, CompoundRewardsStrategy\n",
    "rewards_cls = reward_strategies.SellRewardsStrategy(sell_amount=rewards_sell_amount)\n",
    "# rewards_cls = reward_strategies.CompoundRewardsStrategy(sell_amount=rewards_sell_amount)"
   ]
  },
  {
   "cell_type": "markdown",
   "id": "1a7cd313-1ade-47bb-81da-5498f6d0fa9c",
   "metadata": {},
   "source": [
    "<a id='price_movement_scenario'></a>\n",
    "## Price Movement Scenario\n",
    "\n",
    "Uncomment the scenario to try it. Or create your own from a function in the [Scenario Generators](#scenario_generators) section."
   ]
  },
  {
   "cell_type": "code",
   "execution_count": null,
   "id": "c5228420-90f6-40aa-98d4-cca6ff974396",
   "metadata": {},
   "outputs": [],
   "source": [
    "\"\"\"\n",
    "Uncomment to create a small 4-day example that unit-tests: no change, very negative price change, very positive price change\n",
    "\"\"\"\n",
    "# pp = scenarios.create_small_example()\n",
    "\n",
    "\n",
    "\"\"\"\n",
    "Uncomment this to run for one year without any price change -- useful to test APY growths and fees without price impact\n",
    "\"\"\"\n",
    "# pp = scenarios.create_no_price_change_example(365)\n",
    "\n",
    "\n",
    "\"\"\"\n",
    "Uncomment this to run for one year, decaying price change to 80% losses -- useful to see dramatic effects on investment\n",
    "\"\"\"\n",
    "# pp = scenarios.create_linear_price_change_example(365, token0_price=1.0, token1_price_initial=0.1, token1_price_final=0.02)\n",
    "\n",
    "\n",
    "\"\"\"\n",
    "Uncomment this to run for one year, increasing price 5X -- useful to see dramatic effects on investment\n",
    "\"\"\"\n",
    "# pp = scenarios.create_linear_price_change_example(365, token0_price=1.0, token1_price_initial=0.1, token1_price_final=0.5)\n",
    "\n",
    "\n",
    "\"\"\"\n",
    "Uncomment this to run for one year, without any non-safe-asset (NSA) price change, but the reward token drains to near zero.\n",
    "This is an example of typical farming token where it may be better to sell every day instead of compound or hold, \n",
    "depending on initial capital and gas fees.\n",
    "\"\"\"\n",
    "# pp = scenarios.create_linear_price_change_example(\n",
    "#     365, token0_price=1.0, token1_price_initial=0.1, token1_price_final=0.1, reward_token_price_initial=1.0, reward_token_price_final=0.01\n",
    "# )\n",
    "\n",
    "\"\"\"\n",
    "Uncomment this to go from price of 1.0 down to 0.2 and back to 0.1 within a year. Tests to see the effect of returning to no IL \n",
    "when price dumps and comes back\n",
    "\"\"\"\n",
    "# pp = scenarios.create_linear_and_back_example(365, token0_price=1.0, token1_price_base=0.1, token1_price_peak=0.01)\n",
    "\n",
    "\"\"\"\n",
    "Uncomment this to go from price of 1.0 down to 5.0 (5X) and back to 0.1 within a year. Tests to see the effect of returning to \n",
    "no IL when price pumps and comes back\n",
    "\"\"\"\n",
    "# pp = scenarios.create_linear_and_back_example(365, token0_price=1.0, token1_price_base=0.1, token1_price_peak=0.3)\n",
    "\n",
    "\"\"\"\n",
    "Uncomment this to take a random walk. \n",
    "Tips: \n",
    "- Set seed to None for random every time, or integer to be deterministic\n",
    "- Set bias and variance based in terms of daily-percent movement. \n",
    "- See defaults for reasonable starts. Try plotting first as well.\n",
    "- Set bias to positive to walk upward, negative to walk downward, or 0 to randomly move stationary. \n",
    "- Set variance to define how much the walk should move each step.\n",
    "\"\"\"\n",
    "# pp = scenarios.create_random_walk_example(365, token1_price_initial=10, bias=-0.002, variance=0.005, seed=1234)\n",
    "\n",
    "\"\"\"\n",
    "Uncomment this to run a real-world example using actual historical data.\n",
    "Reads in AVAX-USDC.e pool example from CoinDix/CREAM and prices from coingecko\n",
    "Assumes 10% of total APY is rewards (coindix doesn't report reward APY for this pool, so just an assumption)\n",
    "\"\"\"\n",
    "pp = scenarios.create_history_from_files(\n",
    "    coindix_pair,\n",
    "    protocol,\n",
    "    chain,\n",
    "    cream_token0_name, \n",
    "    cream_token1_name,\n",
    "    token1_coingecko_id,\n",
    "    reward_token_coingecko_id,\n",
    "    reward_apy_ratio=0.10\n",
    ")\n",
    "\n",
    "# Suppress auto-comment print above\n",
    "print(\"\")"
   ]
  },
  {
   "cell_type": "markdown",
   "id": "c335d023-b7ae-458d-84bf-f66b5bc38bf4",
   "metadata": {},
   "source": [
    "<a id='trade_strategy_definition'></a>\n",
    "## Trade Strategy Definition\n",
    "Initialize a trade strategy object found in [Trade Strategies](#trade_strategies)"
   ]
  },
  {
   "cell_type": "code",
   "execution_count": null,
   "id": "0c66ec88-7ed8-4d1f-9b74-077d42432f9e",
   "metadata": {},
   "outputs": [],
   "source": [
    "# Set start date based on desired input, if not already assigned\n",
    "if start_date is None:\n",
    "    start_date = pp.index[0]\n",
    "    if start_offset is not None:\n",
    "        start_date = pp.index[0] + pd.Timedelta(start_offset, unit=\"days\")\n",
    "print(f\"Start Date: {start_date}\")"
   ]
  },
  {
   "cell_type": "markdown",
   "id": "e4d9965b-5af8-41f3-83dd-dcb421a7e320",
   "metadata": {},
   "source": [
    "# Initialize\n",
    "---"
   ]
  },
  {
   "cell_type": "code",
   "execution_count": null,
   "id": "f09572cf-43ca-4d82-99bb-4b109da34c4c",
   "metadata": {},
   "outputs": [],
   "source": [
    "# Set start date based on desired input, if not already assigned\n",
    "if start_date is None and start_offset is not None:\n",
    "    start_date = pp.index[0] + pd.Timedelta(start_offset, unit=\"days\")\n",
    "print(f\"Start Date: {start_date}\")"
   ]
  },
  {
   "cell_type": "markdown",
   "id": "adc01375-04be-49da-8eca-a48c83141cf1",
   "metadata": {},
   "source": [
    "# Run Simulations\n",
    "---"
   ]
  },
  {
   "cell_type": "code",
   "execution_count": null,
   "id": "f0fc8561-9623-4af6-96c9-16cd37b475c5",
   "metadata": {},
   "outputs": [],
   "source": [
    "print(f\"Found {len(search_vals)} search candidates.\")"
   ]
  },
  {
   "cell_type": "code",
   "execution_count": null,
   "id": "8850277b-87a8-40e4-87aa-a4bd8158139c",
   "metadata": {
    "tags": []
   },
   "outputs": [],
   "source": [
    "results = list()\n",
    "open_on_start = True\n",
    "for sv in tqdm(search_vals):\n",
    "    strategy_cls = trading_strategies.RebalanceStrategy(\n",
    "        pp[\"token1_price\"][0], \n",
    "        sv,\n",
    "        leverage,\n",
    "        1.0,\n",
    "        fee_swap=fee_swap/10.0,  # In real-world, the swap will be a balancing of a small percentage of the total position\n",
    "        fee_gas=fee_gas/3.0\n",
    "    )\n",
    "    \n",
    "    zz = pp.copy()\n",
    "    zz = simulation.simulate(\n",
    "        zz,\n",
    "        strategy_cls,\n",
    "        rewards_cls,\n",
    "        initial_cap,\n",
    "        leverage,\n",
    "        start_date,\n",
    "        fee_gas,\n",
    "        fee_swap,\n",
    "        reward_token_price,\n",
    "        apy_trading_fee,\n",
    "        apy_reward,\n",
    "        apy_borrow_token0,\n",
    "        apy_borrow_token1,\n",
    "        open_on_start\n",
    "    )\n",
    "    \n",
    "    rr = simulation.summarize_results(zz)\n",
    "    rr[\"search_config\"] = sv\n",
    "    results.append(rr)"
   ]
  },
  {
   "cell_type": "markdown",
   "id": "0f082e41-f39e-41aa-a3e9-187771a2e5e9",
   "metadata": {},
   "source": [
    "# Evaluate\n",
    "---"
   ]
  },
  {
   "cell_type": "code",
   "execution_count": null,
   "id": "d4dab3c6-aa8c-4d0c-8f35-15db9777df58",
   "metadata": {},
   "outputs": [],
   "source": [
    "dfr = pd.DataFrame(results)"
   ]
  },
  {
   "cell_type": "code",
   "execution_count": null,
   "id": "d52ed158-bb04-4ced-aa02-83098a95b90f",
   "metadata": {},
   "outputs": [],
   "source": [
    "dfr.plot.scatter(x=\"search_config\", y=\"num_trade_strategy_executions\", grid=\"on\", figsize=(12, 8))"
   ]
  },
  {
   "cell_type": "code",
   "execution_count": null,
   "id": "70a03f5e-8f26-4577-b685-4e5b07cbe8f1",
   "metadata": {},
   "outputs": [],
   "source": [
    "dfr.plot(x=\"search_config\", y=\"final_annualized_apr\", grid=\"on\", figsize=(12, 8))"
   ]
  },
  {
   "cell_type": "code",
   "execution_count": null,
   "id": "c44a4143-031e-4bf0-8a7c-dd6e766433ac",
   "metadata": {},
   "outputs": [],
   "source": []
  }
 ],
 "metadata": {
  "kernelspec": {
   "display_name": "Python 3 (ipykernel)",
   "language": "python",
   "name": "python3"
  },
  "language_info": {
   "codemirror_mode": {
    "name": "ipython",
    "version": 3
   },
   "file_extension": ".py",
   "mimetype": "text/x-python",
   "name": "python",
   "nbconvert_exporter": "python",
   "pygments_lexer": "ipython3",
   "version": "3.8.6"
  }
 },
 "nbformat": 4,
 "nbformat_minor": 5
}
